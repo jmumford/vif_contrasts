{
 "cells": [
  {
   "cell_type": "markdown",
   "metadata": {},
   "source": [
    "Illustration of regressor-wise and contrast-wise variance inflation factor (VIF) estimation for fMRI design matrix and corresponding contrasts.  Collinearity is only worrisome when it involves the contrasts of interest in a study.  This illustration of an unlikely go/nogo task shows high VIF on a regressor-by-regressor basis is actually fine since the VIF for the contrasts is well controlled (VIF<5).\n",
    "Reminder: High VIF is only a concern if studying that specific parameter, as that parameter's estimate is likely to have high variability if the VIF is elevated.  "
   ]
  },
  {
   "cell_type": "code",
   "execution_count": 1,
   "metadata": {},
   "outputs": [
    {
     "name": "stderr",
     "output_type": "stream",
     "text": [
      "/Users/jeanettemumford/.pyenv/versions/3.8.5/lib/python3.8/site-packages/nilearn/glm/__init__.py:55: FutureWarning: The nilearn.glm module is experimental. It may change in any future release of Nilearn.\n",
      "  warn('The nilearn.glm module is experimental. '\n"
     ]
    }
   ],
   "source": [
    "from nilearn.glm.first_level import compute_regressor\n",
    "import matplotlib.pyplot as plt\n",
    "import pandas as pd\n",
    "import numpy as np\n",
    "\n",
    "def est_vif(desmat):\n",
    "    '''\n",
    "    General variance inflation factor estimation.  Calculates VIF for all \n",
    "    regressors in the design matrix\n",
    "    input:\n",
    "        desmat: design matrix.  Intercept not required.\n",
    "    output:\n",
    "      vif_data: Variance inflation factor for each regressor in the design matrix\n",
    "                generally goal is VIF<5\n",
    "    '''\n",
    "    from statsmodels.stats.outliers_influence import variance_inflation_factor\n",
    "    desmat_with_intercept = desmat.copy()\n",
    "    desmat_with_intercept['intercept'] = 1\n",
    "    vif_data = pd.DataFrame()\n",
    "    vif_data['regressor'] = desmat_with_intercept.columns.drop('intercept')\n",
    "    vif_data['VIF'] = [variance_inflation_factor(desmat_with_intercept.values, i)\n",
    "                          for i in range(len(desmat_with_intercept.columns))\n",
    "                          if desmat_with_intercept.columns[i] != 'intercept']\n",
    "    return vif_data\n",
    "\n",
    "\n",
    "def get_eff_reg_vif(desmat, contrast):\n",
    "    '''\n",
    "    The goal of this function is to estimate a variance inflation factor for a contrast.\n",
    "    This is done by extending the effective regressor definition from Smith et al (2007)\n",
    "    Meaningful design and contrast estimability (NeuroImage).  Regressors involved\n",
    "    in the contrast estimate are rotated to span the same space as the original space\n",
    "    consisting of the effective regressor and and an orthogonal basis.  The rest of the \n",
    "    regressors are unchanged.\n",
    "    input:\n",
    "        desmat: design matrix.  Assumed to be a pandas dataframe with column  \n",
    "             headings which are used define the contrast of interest\n",
    "        contrast: a single contrast defined in string format\n",
    "    output:\n",
    "        vif: a single VIF for the contrast of interest  \n",
    "    '''\n",
    "    from scipy.linalg import null_space\n",
    "    from nilearn.glm.contrasts import expression_to_contrast_vector\n",
    "    contrast_def = expression_to_contrast_vector(contrast, desmat.columns)\n",
    "    des_nuisance_regs = desmat[desmat.columns[contrast_def == 0]]\n",
    "    des_contrast_regs = desmat[desmat.columns[contrast_def != 0]]\n",
    "\n",
    "    con = np.atleast_2d(contrast_def[contrast_def != 0])\n",
    "    con2_t = null_space(con)\n",
    "    con_t = np.transpose(con)\n",
    "    x = des_contrast_regs.copy().values\n",
    "    q = np.linalg.pinv(np.transpose(x)@ x)\n",
    "    f1 = np.linalg.pinv(con @ q @ con_t)\n",
    "    pc = con_t @ f1 @ con @ q\n",
    "    con3_t = con2_t - pc @ con2_t\n",
    "    f3 = np.linalg.pinv(np.transpose(con3_t) @ q @ con3_t)\n",
    "    eff_reg = x @ q @ np.transpose(con) @ f1\n",
    "    eff_reg = pd.DataFrame(eff_reg, columns = [contrast])\n",
    "\n",
    "    other_reg = x @ q @ con3_t @ f3 \n",
    "    other_reg_names = [f'orth_proj{val}' for val in range(other_reg.shape[1])]\n",
    "    other_reg = pd.DataFrame(other_reg, columns = other_reg_names)\n",
    "\n",
    "    des_for_vif = pd.concat([eff_reg, other_reg, des_nuisance_regs], axis = 1)\n",
    "    vif_dat = est_vif(des_for_vif)\n",
    "    vif_dat.rename(columns={'regressor': 'contrast'}, inplace=True)\n",
    "    vif_output = vif_dat[vif_dat.contrast == contrast]\n",
    "    return vif_output\n",
    "\n",
    "\n",
    "def get_all_contrast_vif(desmat, contrasts):\n",
    "    '''\n",
    "    Calculates the VIF for multiple contrasts\n",
    "    input:\n",
    "        desmat: design matrix.  Pandas data frame, column names must \n",
    "                be used in the contrast definitions\n",
    "        contrasts: A dictionary of contrasts defined in string format\n",
    "    output:\n",
    "        vif_contrasts: Data frame containing the VIFs for all contrasts\n",
    "    '''\n",
    "    vif_contrasts = {'contrast': [],\n",
    "                      'VIF': []}\n",
    "    for key, item in contrasts.items():\n",
    "        vif_out = get_eff_reg_vif(desmat, item)\n",
    "        vif_contrasts['contrast'].append(vif_out['contrast'][0])\n",
    "        vif_contrasts['VIF'].append(vif_out['VIF'][0]) \n",
    "    vif_contrasts = pd.DataFrame(vif_contrasts)\n",
    "    return vif_contrasts     "
   ]
  },
  {
   "cell_type": "code",
   "execution_count": 2,
   "metadata": {},
   "outputs": [],
   "source": [
    "events = pd.DataFrame({'onset': np.linspace(2, 26,10),\n",
    "          'duration': [1] * 10,\n",
    "          'trial_type': ['go', 'nogo'] * 5})"
   ]
  },
  {
   "cell_type": "code",
   "execution_count": 3,
   "metadata": {},
   "outputs": [],
   "source": [
    "nogo_3col = events.loc[((events['trial_type'] == 'nogo')), ['onset', 'duration'] ]\n",
    "nogo_3col['amplitude'] = 1\n",
    "go_3col = events.loc[(events['trial_type'] == 'go') , ['onset', 'duration'] ]\n",
    "go_3col['amplitude'] = 1"
   ]
  },
  {
   "cell_type": "code",
   "execution_count": 4,
   "metadata": {},
   "outputs": [],
   "source": [
    "go, go_names = compute_regressor(\n",
    "        np.transpose(np.array(go_3col)),\n",
    "        'spm + derivative',\n",
    "        np.arange(50),\n",
    "        con_id = 'go'\n",
    "    ) \n",
    "nogo, nogo_names = compute_regressor(\n",
    "        np.transpose(np.array(nogo_3col)),\n",
    "        'spm + derivative',\n",
    "        np.arange(50),\n",
    "        con_id = 'nogo'\n",
    "    ) \n",
    "go_pd = pd.DataFrame(go, columns=go_names)\n",
    "nogo_pd = pd.DataFrame(nogo, columns=nogo_names)\n",
    "\n",
    "desmat = pd.concat([go_pd, nogo_pd], axis=1)\n",
    "contrast = {'go - nogo': 'go - nogo',\n",
    "            'task vs baseline': '.5*go + .5*nogo'}"
   ]
  },
  {
   "cell_type": "code",
   "execution_count": 5,
   "metadata": {},
   "outputs": [
    {
     "data": {
      "text/plain": [
       "<matplotlib.legend.Legend at 0x12fd75520>"
      ]
     },
     "execution_count": 5,
     "metadata": {},
     "output_type": "execute_result"
    },
    {
     "data": {
      "image/png": "[encoded data removed]",
      "text/plain": [
       "<Figure size 432x288 with 1 Axes>"
      ]
     },
     "metadata": {
      "needs_background": "light"
     },
     "output_type": "display_data"
    }
   ],
   "source": [
    "plt.plot(desmat.loc[:,['go', 'nogo']])\n",
    "plt.legend(['go', 'nogo'])"
   ]
  },
  {
   "cell_type": "markdown",
   "metadata": {},
   "source": [
    "This might cause unnecessary alarm since the go and nogo VIFs are both > 5."
   ]
  },
  {
   "cell_type": "code",
   "execution_count": 6,
   "metadata": {},
   "outputs": [
    {
     "name": "stdout",
     "output_type": "stream",
     "text": [
      "         regressor        VIF\n",
      "0               go  10.120215\n",
      "1    go_derivative   2.655307\n",
      "2             nogo  10.178187\n",
      "3  nogo_derivative   2.461170\n"
     ]
    }
   ],
   "source": [
    "vif_desmat = est_vif(desmat)\n",
    "print(vif_desmat)"
   ]
  },
  {
   "cell_type": "markdown",
   "metadata": {},
   "source": [
    "This shows the contrasts are fine.  So, although individual regressors have high VIF, that's only a concern if one was to study those parameters, alone, the contrasts are fine. "
   ]
  },
  {
   "cell_type": "code",
   "execution_count": 7,
   "metadata": {},
   "outputs": [
    {
     "name": "stdout",
     "output_type": "stream",
     "text": [
      "          contrast       VIF\n",
      "0        go - nogo  3.226822\n",
      "1  .5*go + .5*nogo  1.039235\n"
     ]
    }
   ],
   "source": [
    "vif_contrasts = get_all_contrast_vif(desmat, contrast)\n",
    "print(vif_contrasts)"
   ]
  }
 ],
 "metadata": {
  "kernelspec": {
   "display_name": "Python 3.8.5 64-bit ('3.8.5')",
   "language": "python",
   "name": "python3"
  },
  "language_info": {
   "codemirror_mode": {
    "name": "ipython",
    "version": 3
   },
   "file_extension": ".py",
   "mimetype": "text/x-python",
   "name": "python",
   "nbconvert_exporter": "python",
   "pygments_lexer": "ipython3",
   "version": "3.8.5"
  },
  "orig_nbformat": 4,
  "vscode": {
   "interpreter": {
    "hash": "941e4752b19feded12202230476416525a981815ea3500c2dcd589733ac9bd5f"
   }
  }
 },
 "nbformat": 4,
 "nbformat_minor": 2
}
